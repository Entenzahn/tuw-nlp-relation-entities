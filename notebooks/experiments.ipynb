{
 "cells": [
  {
   "cell_type": "code",
   "execution_count": null,
   "id": "41c0ed7c",
   "metadata": {},
   "outputs": [],
   "source": [
    "import tuw_nlp\n",
    "tuw_nlp.download_alto()"
   ]
  },
  {
   "cell_type": "code",
   "execution_count": null,
   "id": "2d9167e0",
   "metadata": {},
   "outputs": [],
   "source": [
    "from tuw_nlp.grammar.text_to_4lang import TextTo4lang\n",
    "from tuw_nlp.graph.utils import graph_to_pn"
   ]
  },
  {
   "cell_type": "markdown",
   "id": "ac4cf30e",
   "metadata": {},
   "source": [
    "## 1. General usage"
   ]
  },
  {
   "cell_type": "markdown",
   "id": "475c66c7",
   "metadata": {},
   "source": [
    "### Initialize TextTo4lang"
   ]
  },
  {
   "cell_type": "markdown",
   "id": "d556bd12",
   "metadata": {},
   "source": [
    "The parameters are `language`, `nlp_cache`, `cache_dir`"
   ]
  },
  {
   "cell_type": "code",
   "execution_count": null,
   "id": "846ff22f",
   "metadata": {},
   "outputs": [],
   "source": [
    "tfl = TextTo4lang(\"en\", \"en_nlp_cache\")"
   ]
  },
  {
   "cell_type": "markdown",
   "id": "b2eabfe7",
   "metadata": {},
   "source": [
    "### Parsing a sentence"
   ]
  },
  {
   "cell_type": "markdown",
   "id": "e3e5dc79",
   "metadata": {},
   "source": [
    "`TextTo4lang` can be called with a context manager, it only has 1 required parameter, the `text` itself:"
   ]
  },
  {
   "cell_type": "code",
   "execution_count": null,
   "id": "73eaed7f",
   "metadata": {},
   "outputs": [],
   "source": [
    "fl_graphs = list(tfl(\"Yellow hat\"))"
   ]
  },
  {
   "cell_type": "markdown",
   "id": "ec4fd8f2",
   "metadata": {},
   "source": [
    "### Displaying the graph"
   ]
  },
  {
   "cell_type": "markdown",
   "id": "238310e2",
   "metadata": {},
   "source": [
    "The `FourLang` can be converted to a dot format, which can be visualized with the graphviz package"
   ]
  },
  {
   "cell_type": "code",
   "execution_count": null,
   "id": "c355f1cb",
   "metadata": {},
   "outputs": [],
   "source": [
    "from tuw_nlp.graph.fourlang import FourLang\n",
    "from graphviz import Source"
   ]
  },
  {
   "cell_type": "code",
   "execution_count": null,
   "id": "80f09658",
   "metadata": {},
   "outputs": [],
   "source": [
    "Source(FourLang(fl_graphs[0], None).to_dot())"
   ]
  },
  {
   "cell_type": "code",
   "execution_count": null,
   "id": "a8eeebc6",
   "metadata": {},
   "outputs": [],
   "source": [
    "tfl.lexicon.get_definition(\"brown\")"
   ]
  },
  {
   "cell_type": "markdown",
   "id": "ee850659",
   "metadata": {},
   "source": [
    "## 2. Expanding and Reducing a sentence"
   ]
  },
  {
   "cell_type": "markdown",
   "id": "c8a74e3d",
   "metadata": {},
   "source": [
    "`TextTo4lang` has two optional parameters, `depth`, which indicates the recursion depth when expanding the graph, and `substitute`, which can be used to reduce the vocabulary of the graph by substituting the _expanded_ node with the root of its definition graph.\n",
    "\n",
    "The default value for `depth` is 0, and `substitute` is set to _False_ by default."
   ]
  },
  {
   "cell_type": "code",
   "execution_count": null,
   "id": "98b60df7",
   "metadata": {},
   "outputs": [],
   "source": [
    "fl_graphs = list(tfl(\"brown dog\", depth=1, substitute=False))"
   ]
  },
  {
   "cell_type": "code",
   "execution_count": null,
   "id": "222f1a30",
   "metadata": {},
   "outputs": [],
   "source": [
    "fl_graphs[0].nodes(data=True)"
   ]
  },
  {
   "cell_type": "code",
   "execution_count": null,
   "id": "a13a25e2",
   "metadata": {},
   "outputs": [],
   "source": [
    "Source(FourLang(fl_graphs[0], None).to_dot())"
   ]
  },
  {
   "cell_type": "code",
   "execution_count": null,
   "id": "48be068e",
   "metadata": {},
   "outputs": [],
   "source": [
    "fl_graphs = list(tfl(\"brown dog\", depth=1, substitute=True))\n",
    "Source(FourLang(fl_graphs[0], None).to_dot())"
   ]
  },
  {
   "cell_type": "markdown",
   "id": "2285b289",
   "metadata": {},
   "source": [
    "## 3. Using another language\n",
    "\n",
    "Currently, besides English, TextTo4lang can be used with German as well"
   ]
  },
  {
   "cell_type": "code",
   "execution_count": null,
   "id": "d26bf034",
   "metadata": {},
   "outputs": [],
   "source": [
    "tfl = TextTo4lang(\"de\", \"de_nlp_cache\")"
   ]
  },
  {
   "cell_type": "code",
   "execution_count": null,
   "id": "80b6ec45",
   "metadata": {},
   "outputs": [],
   "source": [
    "fl_graphs = list(tfl(\"brauner Hund\", depth=1, substitute=False))"
   ]
  },
  {
   "cell_type": "code",
   "execution_count": null,
   "id": "9f776845",
   "metadata": {},
   "outputs": [],
   "source": [
    "Source(FourLang(fl_graphs[0], None).to_dot())"
   ]
  },
  {
   "cell_type": "code",
   "execution_count": null,
   "id": "876b7953",
   "metadata": {},
   "outputs": [],
   "source": [
    "tfl.lexicon.get_definition(\"braun\")"
   ]
  },
  {
   "cell_type": "code",
   "execution_count": null,
   "id": "a6d46d40",
   "metadata": {},
   "outputs": [],
   "source": []
  }
 ],
 "metadata": {
  "interpreter": {
   "hash": "4b977bc2dbbdfc27ab756c2412895a6fdc930fe977071a9179da75bd8ff5c985"
  },
  "kernelspec": {
   "display_name": "Python 3 (ipykernel)",
   "language": "python",
   "name": "python3"
  },
  "language_info": {
   "codemirror_mode": {
    "name": "ipython",
    "version": 3
   },
   "file_extension": ".py",
   "mimetype": "text/x-python",
   "name": "python",
   "nbconvert_exporter": "python",
   "pygments_lexer": "ipython3",
   "version": "3.9.5"
  }
 },
 "nbformat": 4,
 "nbformat_minor": 5
}
